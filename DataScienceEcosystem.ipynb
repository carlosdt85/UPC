{
 "cells": [
  {
   "cell_type": "markdown",
   "id": "86351ff1-0b96-44f2-9714-339566cbf2c5",
   "metadata": {},
   "source": [
    "# Data Science Tools and Ecosystem"
   ]
  },
  {
   "cell_type": "markdown",
   "id": "48718135-64d1-4530-8919-19799709a28e",
   "metadata": {},
   "source": [
    "In this notebook, Data Science Tools and Ecosystem are summarized."
   ]
  },
  {
   "cell_type": "markdown",
   "id": "d6b3d9f9-8058-4988-a410-a2ee1e99b21c",
   "metadata": {},
   "source": [
    "Algunos de los lenguajes populares que utilizan los científicos de datos son:\n"
   ]
  },
  {
   "cell_type": "markdown",
   "id": "533eb1c2-c9fa-4daf-a8e0-f1b5bd00fa10",
   "metadata": {},
   "source": [
    "1. Python"
   ]
  },
  {
   "cell_type": "markdown",
   "id": "e7a0dd94-b87b-4b6a-b096-fe1439084804",
   "metadata": {
    "tags": []
   },
   "source": [
    "2. R"
   ]
  },
  {
   "cell_type": "markdown",
   "id": "1d161906-6e16-4e9a-af5c-cdd4500b8747",
   "metadata": {},
   "source": [
    "3. Julia"
   ]
  },
  {
   "cell_type": "markdown",
   "id": "c3ddfcf9-a693-438e-9a6a-c5995786c3b9",
   "metadata": {},
   "source": [
    "4. SQL"
   ]
  },
  {
   "cell_type": "markdown",
   "id": "0bb3c8d6-6079-4259-ae0f-db446bc877e8",
   "metadata": {},
   "source": [
    "5. Java"
   ]
  },
  {
   "cell_type": "markdown",
   "id": "6cdf5f17-aadb-449b-95aa-f1633672f2db",
   "metadata": {},
   "source": [
    "6. Scala\n",
    "\n"
   ]
  },
  {
   "cell_type": "markdown",
   "id": "51719650-d638-400a-bcd7-e5ca76850169",
   "metadata": {},
   "source": [
    "7. MATLAB"
   ]
  },
  {
   "cell_type": "markdown",
   "id": "986d48bd-0726-4e86-8030-22fd7510de44",
   "metadata": {},
   "source": [
    "8. JavaScript\n"
   ]
  },
  {
   "cell_type": "markdown",
   "id": "b8e4d61b-743e-4450-8ce5-4d098200f9b8",
   "metadata": {},
   "source": [
    "9. C++\n"
   ]
  },
  {
   "cell_type": "markdown",
   "id": "4638dddd-1e7e-4559-b110-cd3220b662f5",
   "metadata": {},
   "source": [
    "10. SAS"
   ]
  },
  {
   "cell_type": "markdown",
   "id": "2879dce1-d96a-4118-8b8d-9293e8ea9044",
   "metadata": {},
   "source": [
    "Algunas de las bibliotecas comúnmente utilizadas por los científicos de datos incluyen:"
   ]
  },
  {
   "cell_type": "markdown",
   "id": "8e737921-0e39-478c-b2c9-7ce5971b3724",
   "metadata": {},
   "source": [
    "1. NumPy"
   ]
  },
  {
   "cell_type": "markdown",
   "id": "12f7e147-07c7-4461-800d-170943eef708",
   "metadata": {},
   "source": [
    "2. Pandas"
   ]
  },
  {
   "cell_type": "markdown",
   "id": "7a393c52-5bbd-4d80-bd79-bca37f30ecf3",
   "metadata": {},
   "source": [
    "3. Matplotlib"
   ]
  },
  {
   "cell_type": "markdown",
   "id": "3d1a196d-921a-4146-aff0-7eb88aafcd6f",
   "metadata": {},
   "source": [
    "4. Scikit-learn"
   ]
  },
  {
   "cell_type": "markdown",
   "id": "733e173f-c818-49a7-a6d7-3b171e8d9426",
   "metadata": {},
   "source": [
    "5. TensorFlow"
   ]
  },
  {
   "cell_type": "markdown",
   "id": "6e566354-e588-45f9-bf38-a0cca489de59",
   "metadata": {},
   "source": [
    "6. PyTorch"
   ]
  },
  {
   "cell_type": "markdown",
   "id": "abc08334-0a72-47c8-ab42-6593cbbcf58e",
   "metadata": {},
   "source": [
    "7. Keras"
   ]
  },
  {
   "cell_type": "markdown",
   "id": "f8e676a0-0314-4c07-bbb1-c6a895663426",
   "metadata": {},
   "source": [
    "8. NLTK\n"
   ]
  },
  {
   "cell_type": "markdown",
   "id": "5f6ece2c-15d5-44bd-9c48-9c2f9692c15d",
   "metadata": {},
   "source": [
    "9. Seaborn\n"
   ]
  },
  {
   "cell_type": "markdown",
   "id": "2470c2db-e0cb-4e34-adb7-f07851c64de7",
   "metadata": {},
   "source": [
    "10. Statsmodels"
   ]
  },
  {
   "cell_type": "markdown",
   "id": "ccd52b7d-1bc1-48ec-92ff-ca17f4c345dc",
   "metadata": {},
   "source": [
    "| Data Science Tools |\n",
    "|--------------------|\n",
    "| Jupyter Notebook   |\n",
    "| Anaconda           |\n",
    "| RStudio            |"
   ]
  },
  {
   "cell_type": "markdown",
   "id": "1e7f53a6-8319-4bd1-8fa6-d2a4c2aad670",
   "metadata": {},
   "source": [
    "### **A continuación se muestran algunos ejemplos de evaluación de expresiones aritméticas en Python**\n"
   ]
  },
  {
   "cell_type": "code",
   "execution_count": 2,
   "id": "1e432a2c-d822-4794-bfc1-c33768ce19ef",
   "metadata": {
    "tags": []
   },
   "outputs": [],
   "source": [
    "# Esto es una expresión aritmética simple para multiplicar y luego sumar enteros."
   ]
  },
  {
   "cell_type": "code",
   "execution_count": 3,
   "id": "d0a7a5ce-7aae-4929-9077-2349769d150d",
   "metadata": {
    "tags": []
   },
   "outputs": [
    {
     "data": {
      "text/plain": [
       "17"
      ]
     },
     "execution_count": 3,
     "metadata": {},
     "output_type": "execute_result"
    }
   ],
   "source": [
    "(3*4)+5\n"
   ]
  },
  {
   "cell_type": "code",
   "execution_count": 4,
   "id": "e5f63617-9cb6-4876-891e-a45d6c549a72",
   "metadata": {
    "tags": []
   },
   "outputs": [],
   "source": [
    "# Esto convertirá 200 minutos en horas dividiendo por 60."
   ]
  },
  {
   "cell_type": "code",
   "execution_count": 5,
   "id": "f82b2874-485f-482f-980b-0bdd3a386da3",
   "metadata": {
    "tags": []
   },
   "outputs": [
    {
     "data": {
      "text/plain": [
       "3.3333333333333335"
      ]
     },
     "execution_count": 5,
     "metadata": {},
     "output_type": "execute_result"
    }
   ],
   "source": [
    "200 / 60"
   ]
  },
  {
   "cell_type": "markdown",
   "id": "ed0490e3-eb1e-4a04-8a4a-915c434d6633",
   "metadata": {},
   "source": [
    "**Objetivos:**\n",
    "- Enumerar los lenguajes populares para la Ciencia de Datos.\n",
    "- Presentar las bibliotecas comunes utilizadas en la Ciencia de Datos.\n",
    "- Demostrar ejemplos de expresiones aritméticas en Python."
   ]
  },
  {
   "cell_type": "markdown",
   "id": "0a67fac5-4377-4276-816d-d967b49277ad",
   "metadata": {},
   "source": [
    "## Author\n",
    "Carlos Augusto Diaz Tanaka"
   ]
  },
  {
   "cell_type": "code",
   "execution_count": null,
   "id": "829cb9ac-f64b-4816-b183-b62c039cb2d3",
   "metadata": {},
   "outputs": [],
   "source": []
  }
 ],
 "metadata": {
  "kernelspec": {
   "display_name": "Python",
   "language": "python",
   "name": "conda-env-python-py"
  },
  "language_info": {
   "codemirror_mode": {
    "name": "ipython",
    "version": 3
   },
   "file_extension": ".py",
   "mimetype": "text/x-python",
   "name": "python",
   "nbconvert_exporter": "python",
   "pygments_lexer": "ipython3",
   "version": "3.7.12"
  }
 },
 "nbformat": 4,
 "nbformat_minor": 5
}
